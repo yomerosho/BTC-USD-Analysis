{
 "cells": [
  {
   "cell_type": "markdown",
   "id": "d0b83400",
   "metadata": {},
   "source": [
    "# BTC-USD Dataset\n",
    "\n",
    "The dataset used in this project was manually downloaded from https://finance.yahoo.com/quote/BTC-USD/history?p=BTC-USD for period November 24, 2020 to November 24, 2021. The dataset was downloaded to a .CSV file which will be used in this notebook below.  "
   ]
  },
  {
   "cell_type": "code",
   "execution_count": 154,
   "id": "f61145c2",
   "metadata": {},
   "outputs": [
    {
     "name": "stdout",
     "output_type": "stream",
     "text": [
      "         Date         Open         High          Low        Close  \\\n",
      "0  11/24/2020  18365.01563  19348.27148  18128.65625  19107.46484   \n",
      "1  11/25/2020  19104.41016  19390.96484  18581.14648  18732.12109   \n",
      "2  11/26/2020  18729.83984  18866.28516  16351.03516  17150.62305   \n",
      "3  11/27/2020  17153.91406  17445.02344  16526.42383  17108.40234   \n",
      "4  11/28/2020  17112.93359  17853.93945  16910.65234  17717.41406   \n",
      "\n",
      "     Adj Close        Volume  \n",
      "0  19107.46484  5.146957e+10  \n",
      "1  18732.12109  4.371036e+10  \n",
      "2  17150.62305  6.139684e+10  \n",
      "3  17108.40234  3.888649e+10  \n",
      "4  17717.41406  3.260104e+10  \n"
     ]
    }
   ],
   "source": [
    "#Loading the necessary libraries for this exercise\n",
    "import pandas as pd\n",
    "import os\n",
    "\n",
    "#Ignore warnings\n",
    "import warnings\n",
    "warnings.filterwarnings(\"ignore\", category=FutureWarning)\n",
    "\n",
    "#Get Current Working Directory\n",
    "os.getcwd()\n",
    "\n",
    "#Change Working Directory\n",
    "os.chdir('C:/Users/User/Documents/Data Science Texas Tech')\n",
    "os.getcwd()\n",
    "\n",
    "#Specify dataset directory\n",
    "path = 'C:/Users/User/Documents/Data Science Texas Tech/BTC-USD Analysis & Visualization/'\n",
    "\n",
    "#Import BTC-USD data\n",
    "df = pd.DataFrame(pd.read_csv(path + 'BTC-USD.csv'))\n",
    "\n",
    "#Checking out the first few rows of the dataset\n",
    "print(df.head())\n"
   ]
  },
  {
   "cell_type": "code",
   "execution_count": 155,
   "id": "dfba199a",
   "metadata": {},
   "outputs": [
    {
     "name": "stdout",
     "output_type": "stream",
     "text": [
      "Date          object\n",
      "Open         float64\n",
      "High         float64\n",
      "Low          float64\n",
      "Close        float64\n",
      "Adj Close    float64\n",
      "Volume       float64\n",
      "dtype: object\n"
     ]
    }
   ],
   "source": [
    "# Checking out the type of data in the BTC-USD dataset\n",
    "print(df.dtypes)"
   ]
  },
  {
   "cell_type": "markdown",
   "id": "4f79b154",
   "metadata": {},
   "source": [
    "##### the data type of the date column is currently set as an object. We will convert it to datetime format later"
   ]
  },
  {
   "cell_type": "code",
   "execution_count": 156,
   "id": "aea2e09c",
   "metadata": {},
   "outputs": [
    {
     "name": "stdout",
     "output_type": "stream",
     "text": [
      "(366, 7)\n"
     ]
    }
   ],
   "source": [
    "#Checking the shape (# of rows, and columns) in the dataset\n",
    "print(df.shape)"
   ]
  },
  {
   "cell_type": "markdown",
   "id": "48b9c04a",
   "metadata": {},
   "source": [
    "## Data Preparation and Cleaning\n",
    "<ol>\n",
    "    <li>The dataset has 7 columns showing daily BTC-USD price&nbsp;</li>\n",
    "    <li>The columns are Open, High, Low, Close, Adj Close prices and Volume</li>\n",
    "    <li>Data is provided for 366 days: for period November 24, 2020 to November 24, 2021</li>\n",
    "    <li>The next steps will check if there are misssing or invalid data </li>\n",
    "</ol>"
   ]
  },
  {
   "cell_type": "code",
   "execution_count": 157,
   "id": "62ac69de",
   "metadata": {},
   "outputs": [
    {
     "data": {
      "text/plain": [
       "Date         0\n",
       "Open         1\n",
       "High         1\n",
       "Low          1\n",
       "Close        1\n",
       "Adj Close    1\n",
       "Volume       1\n",
       "dtype: int64"
      ]
     },
     "execution_count": 157,
     "metadata": {},
     "output_type": "execute_result"
    }
   ],
   "source": [
    "#Check for any null values in the dataset\n",
    "df.isnull().sum()"
   ]
  },
  {
   "cell_type": "code",
   "execution_count": 158,
   "id": "60b6214b",
   "metadata": {},
   "outputs": [
    {
     "data": {
      "text/html": [
       "<div>\n",
       "<style scoped>\n",
       "    .dataframe tbody tr th:only-of-type {\n",
       "        vertical-align: middle;\n",
       "    }\n",
       "\n",
       "    .dataframe tbody tr th {\n",
       "        vertical-align: top;\n",
       "    }\n",
       "\n",
       "    .dataframe thead th {\n",
       "        text-align: right;\n",
       "    }\n",
       "</style>\n",
       "<table border=\"1\" class=\"dataframe\">\n",
       "  <thead>\n",
       "    <tr style=\"text-align: right;\">\n",
       "      <th></th>\n",
       "      <th>Date</th>\n",
       "      <th>Open</th>\n",
       "      <th>High</th>\n",
       "      <th>Low</th>\n",
       "      <th>Close</th>\n",
       "      <th>Adj Close</th>\n",
       "      <th>Volume</th>\n",
       "    </tr>\n",
       "  </thead>\n",
       "  <tbody>\n",
       "    <tr>\n",
       "      <th>364</th>\n",
       "      <td>11/23/2021</td>\n",
       "      <td>NaN</td>\n",
       "      <td>NaN</td>\n",
       "      <td>NaN</td>\n",
       "      <td>NaN</td>\n",
       "      <td>NaN</td>\n",
       "      <td>NaN</td>\n",
       "    </tr>\n",
       "  </tbody>\n",
       "</table>\n",
       "</div>"
      ],
      "text/plain": [
       "           Date  Open  High  Low  Close  Adj Close  Volume\n",
       "364  11/23/2021   NaN   NaN  NaN    NaN        NaN     NaN"
      ]
     },
     "execution_count": 158,
     "metadata": {},
     "output_type": "execute_result"
    }
   ],
   "source": [
    "#Check for how many rows have null values\n",
    "df.loc[df.isnull().any(axis=1)]"
   ]
  },
  {
   "cell_type": "markdown",
   "id": "ed4525b9",
   "metadata": {},
   "source": [
    "##### Only row 364 has Null values. This row will be dropped from the dataset"
   ]
  },
  {
   "cell_type": "code",
   "execution_count": 159,
   "id": "d9b3aea0",
   "metadata": {},
   "outputs": [],
   "source": [
    "df_new = df.dropna(axis = 0, how = 'any')"
   ]
  },
  {
   "cell_type": "code",
   "execution_count": 160,
   "id": "2ca39d1a",
   "metadata": {},
   "outputs": [
    {
     "data": {
      "text/plain": [
       "Date         0\n",
       "Open         0\n",
       "High         0\n",
       "Low          0\n",
       "Close        0\n",
       "Adj Close    0\n",
       "Volume       0\n",
       "dtype: int64"
      ]
     },
     "execution_count": 160,
     "metadata": {},
     "output_type": "execute_result"
    }
   ],
   "source": [
    "df_new.isnull().sum()"
   ]
  },
  {
   "cell_type": "markdown",
   "id": "2b348758",
   "metadata": {},
   "source": [
    "##### Row 364 has been dropped"
   ]
  },
  {
   "cell_type": "code",
   "execution_count": 135,
   "id": "40f787b8",
   "metadata": {},
   "outputs": [
    {
     "data": {
      "text/plain": [
       "(365, 7)"
      ]
     },
     "execution_count": 135,
     "metadata": {},
     "output_type": "execute_result"
    }
   ],
   "source": [
    "df_new.shape"
   ]
  },
  {
   "cell_type": "markdown",
   "id": "039b80b7",
   "metadata": {},
   "source": [
    "##### Let's convert the Date colum to datetime using pd.to_datetime"
   ]
  },
  {
   "cell_type": "code",
   "execution_count": 136,
   "id": "a5d489e4",
   "metadata": {},
   "outputs": [
    {
     "name": "stderr",
     "output_type": "stream",
     "text": [
      "<ipython-input-136-2a034a087469>:1: SettingWithCopyWarning: \n",
      "A value is trying to be set on a copy of a slice from a DataFrame.\n",
      "Try using .loc[row_indexer,col_indexer] = value instead\n",
      "\n",
      "See the caveats in the documentation: https://pandas.pydata.org/pandas-docs/stable/user_guide/indexing.html#returning-a-view-versus-a-copy\n",
      "  df_new['Date'] = pd.to_datetime(df_new['Date'])\n"
     ]
    }
   ],
   "source": [
    "df_new['Date'] = pd.to_datetime(df_new['Date'])"
   ]
  },
  {
   "cell_type": "code",
   "execution_count": 137,
   "id": "acda6df3",
   "metadata": {},
   "outputs": [
    {
     "data": {
      "text/plain": [
       "Timestamp('2020-11-26 00:00:00')"
      ]
     },
     "execution_count": 137,
     "metadata": {},
     "output_type": "execute_result"
    }
   ],
   "source": [
    "df_new['Date'].iloc[2]"
   ]
  },
  {
   "cell_type": "markdown",
   "id": "471c98b4",
   "metadata": {},
   "source": [
    "##### Let's drop the adjusted close column. Didn't notice any difference between it and the close column"
   ]
  },
  {
   "cell_type": "code",
   "execution_count": 138,
   "id": "d4556044",
   "metadata": {},
   "outputs": [
    {
     "data": {
      "text/html": [
       "<div>\n",
       "<style scoped>\n",
       "    .dataframe tbody tr th:only-of-type {\n",
       "        vertical-align: middle;\n",
       "    }\n",
       "\n",
       "    .dataframe tbody tr th {\n",
       "        vertical-align: top;\n",
       "    }\n",
       "\n",
       "    .dataframe thead th {\n",
       "        text-align: right;\n",
       "    }\n",
       "</style>\n",
       "<table border=\"1\" class=\"dataframe\">\n",
       "  <thead>\n",
       "    <tr style=\"text-align: right;\">\n",
       "      <th></th>\n",
       "      <th>Date</th>\n",
       "      <th>Open</th>\n",
       "      <th>High</th>\n",
       "      <th>Low</th>\n",
       "      <th>Close</th>\n",
       "      <th>Adj Close</th>\n",
       "      <th>Volume</th>\n",
       "    </tr>\n",
       "  </thead>\n",
       "  <tbody>\n",
       "    <tr>\n",
       "      <th>65</th>\n",
       "      <td>2021-01-28</td>\n",
       "      <td>30441.04102</td>\n",
       "      <td>31891.30078</td>\n",
       "      <td>30023.20703</td>\n",
       "      <td>31649.60547</td>\n",
       "      <td>31649.60547</td>\n",
       "      <td>7.894816e+10</td>\n",
       "    </tr>\n",
       "  </tbody>\n",
       "</table>\n",
       "</div>"
      ],
      "text/plain": [
       "         Date         Open         High          Low        Close  \\\n",
       "65 2021-01-28  30441.04102  31891.30078  30023.20703  31649.60547   \n",
       "\n",
       "      Adj Close        Volume  \n",
       "65  31649.60547  7.894816e+10  "
      ]
     },
     "execution_count": 138,
     "metadata": {},
     "output_type": "execute_result"
    }
   ],
   "source": [
    "df_new.sample()"
   ]
  },
  {
   "cell_type": "code",
   "execution_count": 139,
   "id": "11e7d803",
   "metadata": {},
   "outputs": [
    {
     "name": "stderr",
     "output_type": "stream",
     "text": [
      "C:\\Users\\User\\anaconda3\\lib\\site-packages\\pandas\\core\\frame.py:4308: SettingWithCopyWarning: \n",
      "A value is trying to be set on a copy of a slice from a DataFrame\n",
      "\n",
      "See the caveats in the documentation: https://pandas.pydata.org/pandas-docs/stable/user_guide/indexing.html#returning-a-view-versus-a-copy\n",
      "  return super().drop(\n"
     ]
    }
   ],
   "source": [
    "df_new.drop(columns= ['Adj Close'], axis = 1, inplace = True)"
   ]
  },
  {
   "cell_type": "code",
   "execution_count": 140,
   "id": "72bc5eca",
   "metadata": {},
   "outputs": [
    {
     "data": {
      "text/html": [
       "<div>\n",
       "<style scoped>\n",
       "    .dataframe tbody tr th:only-of-type {\n",
       "        vertical-align: middle;\n",
       "    }\n",
       "\n",
       "    .dataframe tbody tr th {\n",
       "        vertical-align: top;\n",
       "    }\n",
       "\n",
       "    .dataframe thead th {\n",
       "        text-align: right;\n",
       "    }\n",
       "</style>\n",
       "<table border=\"1\" class=\"dataframe\">\n",
       "  <thead>\n",
       "    <tr style=\"text-align: right;\">\n",
       "      <th></th>\n",
       "      <th>Date</th>\n",
       "      <th>Open</th>\n",
       "      <th>High</th>\n",
       "      <th>Low</th>\n",
       "      <th>Close</th>\n",
       "      <th>Volume</th>\n",
       "    </tr>\n",
       "  </thead>\n",
       "  <tbody>\n",
       "    <tr>\n",
       "      <th>0</th>\n",
       "      <td>2020-11-24</td>\n",
       "      <td>18365.01563</td>\n",
       "      <td>19348.27148</td>\n",
       "      <td>18128.65625</td>\n",
       "      <td>19107.46484</td>\n",
       "      <td>5.146957e+10</td>\n",
       "    </tr>\n",
       "    <tr>\n",
       "      <th>1</th>\n",
       "      <td>2020-11-25</td>\n",
       "      <td>19104.41016</td>\n",
       "      <td>19390.96484</td>\n",
       "      <td>18581.14648</td>\n",
       "      <td>18732.12109</td>\n",
       "      <td>4.371036e+10</td>\n",
       "    </tr>\n",
       "    <tr>\n",
       "      <th>2</th>\n",
       "      <td>2020-11-26</td>\n",
       "      <td>18729.83984</td>\n",
       "      <td>18866.28516</td>\n",
       "      <td>16351.03516</td>\n",
       "      <td>17150.62305</td>\n",
       "      <td>6.139684e+10</td>\n",
       "    </tr>\n",
       "    <tr>\n",
       "      <th>3</th>\n",
       "      <td>2020-11-27</td>\n",
       "      <td>17153.91406</td>\n",
       "      <td>17445.02344</td>\n",
       "      <td>16526.42383</td>\n",
       "      <td>17108.40234</td>\n",
       "      <td>3.888649e+10</td>\n",
       "    </tr>\n",
       "    <tr>\n",
       "      <th>4</th>\n",
       "      <td>2020-11-28</td>\n",
       "      <td>17112.93359</td>\n",
       "      <td>17853.93945</td>\n",
       "      <td>16910.65234</td>\n",
       "      <td>17717.41406</td>\n",
       "      <td>3.260104e+10</td>\n",
       "    </tr>\n",
       "  </tbody>\n",
       "</table>\n",
       "</div>"
      ],
      "text/plain": [
       "        Date         Open         High          Low        Close        Volume\n",
       "0 2020-11-24  18365.01563  19348.27148  18128.65625  19107.46484  5.146957e+10\n",
       "1 2020-11-25  19104.41016  19390.96484  18581.14648  18732.12109  4.371036e+10\n",
       "2 2020-11-26  18729.83984  18866.28516  16351.03516  17150.62305  6.139684e+10\n",
       "3 2020-11-27  17153.91406  17445.02344  16526.42383  17108.40234  3.888649e+10\n",
       "4 2020-11-28  17112.93359  17853.93945  16910.65234  17717.41406  3.260104e+10"
      ]
     },
     "execution_count": 140,
     "metadata": {},
     "output_type": "execute_result"
    }
   ],
   "source": [
    "df_new.head()"
   ]
  },
  {
   "cell_type": "markdown",
   "id": "934a8f06",
   "metadata": {},
   "source": [
    "##### Let's extract the Year, Month and Day Columns from Date"
   ]
  },
  {
   "cell_type": "code",
   "execution_count": 141,
   "id": "b5ae3d22",
   "metadata": {},
   "outputs": [
    {
     "name": "stderr",
     "output_type": "stream",
     "text": [
      "<ipython-input-141-208ed14550ab>:2: SettingWithCopyWarning: \n",
      "A value is trying to be set on a copy of a slice from a DataFrame.\n",
      "Try using .loc[row_indexer,col_indexer] = value instead\n",
      "\n",
      "See the caveats in the documentation: https://pandas.pydata.org/pandas-docs/stable/user_guide/indexing.html#returning-a-view-versus-a-copy\n",
      "  df_new['Month'] = pd.DatetimeIndex(df_new.Date).month\n"
     ]
    }
   ],
   "source": [
    "#Extracting the Month from Date Column\n",
    "df_new['Month'] = pd.DatetimeIndex(df_new.Date).month"
   ]
  },
  {
   "cell_type": "code",
   "execution_count": 142,
   "id": "4be844a9",
   "metadata": {},
   "outputs": [
    {
     "name": "stderr",
     "output_type": "stream",
     "text": [
      "<ipython-input-142-889cb2fbbf9c>:2: SettingWithCopyWarning: \n",
      "A value is trying to be set on a copy of a slice from a DataFrame.\n",
      "Try using .loc[row_indexer,col_indexer] = value instead\n",
      "\n",
      "See the caveats in the documentation: https://pandas.pydata.org/pandas-docs/stable/user_guide/indexing.html#returning-a-view-versus-a-copy\n",
      "  df_new['Year'] = pd.DatetimeIndex(df_new.Date).year\n"
     ]
    }
   ],
   "source": [
    "#Extracting the Year from Date Column\n",
    "df_new['Year'] = pd.DatetimeIndex(df_new.Date).year"
   ]
  },
  {
   "cell_type": "code",
   "execution_count": 143,
   "id": "50d8c418",
   "metadata": {},
   "outputs": [
    {
     "name": "stderr",
     "output_type": "stream",
     "text": [
      "<ipython-input-143-2edcf34c83fc>:2: SettingWithCopyWarning: \n",
      "A value is trying to be set on a copy of a slice from a DataFrame.\n",
      "Try using .loc[row_indexer,col_indexer] = value instead\n",
      "\n",
      "See the caveats in the documentation: https://pandas.pydata.org/pandas-docs/stable/user_guide/indexing.html#returning-a-view-versus-a-copy\n",
      "  df_new['Day'] = pd.DatetimeIndex(df_new.Date).day\n"
     ]
    }
   ],
   "source": [
    "#Extracting the days from Date Column\n",
    "df_new['Day'] = pd.DatetimeIndex(df_new.Date).day"
   ]
  },
  {
   "cell_type": "markdown",
   "id": "947a4ea3",
   "metadata": {},
   "source": [
    "##### Add new column 'Percent Change'"
   ]
  },
  {
   "cell_type": "code",
   "execution_count": 144,
   "id": "39be6a3b",
   "metadata": {},
   "outputs": [
    {
     "name": "stderr",
     "output_type": "stream",
     "text": [
      "<ipython-input-144-31b17c6ec7d2>:1: SettingWithCopyWarning: \n",
      "A value is trying to be set on a copy of a slice from a DataFrame.\n",
      "Try using .loc[row_indexer,col_indexer] = value instead\n",
      "\n",
      "See the caveats in the documentation: https://pandas.pydata.org/pandas-docs/stable/user_guide/indexing.html#returning-a-view-versus-a-copy\n",
      "  df_new['PercentChange'] = (df_new['Close']-df_new['Open'])/(df_new['Open'])*100\n"
     ]
    }
   ],
   "source": [
    "df_new['PercentChange'] = (df_new['Close']-df_new['Open'])/(df_new['Open'])*100"
   ]
  },
  {
   "cell_type": "markdown",
   "id": "8d749fcd",
   "metadata": {},
   "source": [
    "##### Reorder the columns"
   ]
  },
  {
   "cell_type": "code",
   "execution_count": 145,
   "id": "56c42939",
   "metadata": {},
   "outputs": [],
   "source": [
    "df_new = df_new[['Date', 'Year', 'Month', 'Day', 'Open', 'Close',  'PercentChange','High', 'Low','Volume']]"
   ]
  },
  {
   "cell_type": "code",
   "execution_count": 146,
   "id": "0bcf3315",
   "metadata": {},
   "outputs": [
    {
     "data": {
      "text/html": [
       "<div>\n",
       "<style scoped>\n",
       "    .dataframe tbody tr th:only-of-type {\n",
       "        vertical-align: middle;\n",
       "    }\n",
       "\n",
       "    .dataframe tbody tr th {\n",
       "        vertical-align: top;\n",
       "    }\n",
       "\n",
       "    .dataframe thead th {\n",
       "        text-align: right;\n",
       "    }\n",
       "</style>\n",
       "<table border=\"1\" class=\"dataframe\">\n",
       "  <thead>\n",
       "    <tr style=\"text-align: right;\">\n",
       "      <th></th>\n",
       "      <th>Date</th>\n",
       "      <th>Year</th>\n",
       "      <th>Month</th>\n",
       "      <th>Day</th>\n",
       "      <th>Open</th>\n",
       "      <th>Close</th>\n",
       "      <th>PercentChange</th>\n",
       "      <th>High</th>\n",
       "      <th>Low</th>\n",
       "      <th>Volume</th>\n",
       "    </tr>\n",
       "  </thead>\n",
       "  <tbody>\n",
       "    <tr>\n",
       "      <th>0</th>\n",
       "      <td>2020-11-24</td>\n",
       "      <td>2020</td>\n",
       "      <td>11</td>\n",
       "      <td>24</td>\n",
       "      <td>18365.01563</td>\n",
       "      <td>19107.46484</td>\n",
       "      <td>4.042737</td>\n",
       "      <td>19348.27148</td>\n",
       "      <td>18128.65625</td>\n",
       "      <td>5.146957e+10</td>\n",
       "    </tr>\n",
       "    <tr>\n",
       "      <th>1</th>\n",
       "      <td>2020-11-25</td>\n",
       "      <td>2020</td>\n",
       "      <td>11</td>\n",
       "      <td>25</td>\n",
       "      <td>19104.41016</td>\n",
       "      <td>18732.12109</td>\n",
       "      <td>-1.948707</td>\n",
       "      <td>19390.96484</td>\n",
       "      <td>18581.14648</td>\n",
       "      <td>4.371036e+10</td>\n",
       "    </tr>\n",
       "    <tr>\n",
       "      <th>2</th>\n",
       "      <td>2020-11-26</td>\n",
       "      <td>2020</td>\n",
       "      <td>11</td>\n",
       "      <td>26</td>\n",
       "      <td>18729.83984</td>\n",
       "      <td>17150.62305</td>\n",
       "      <td>-8.431555</td>\n",
       "      <td>18866.28516</td>\n",
       "      <td>16351.03516</td>\n",
       "      <td>6.139684e+10</td>\n",
       "    </tr>\n",
       "    <tr>\n",
       "      <th>3</th>\n",
       "      <td>2020-11-27</td>\n",
       "      <td>2020</td>\n",
       "      <td>11</td>\n",
       "      <td>27</td>\n",
       "      <td>17153.91406</td>\n",
       "      <td>17108.40234</td>\n",
       "      <td>-0.265314</td>\n",
       "      <td>17445.02344</td>\n",
       "      <td>16526.42383</td>\n",
       "      <td>3.888649e+10</td>\n",
       "    </tr>\n",
       "    <tr>\n",
       "      <th>4</th>\n",
       "      <td>2020-11-28</td>\n",
       "      <td>2020</td>\n",
       "      <td>11</td>\n",
       "      <td>28</td>\n",
       "      <td>17112.93359</td>\n",
       "      <td>17717.41406</td>\n",
       "      <td>3.532302</td>\n",
       "      <td>17853.93945</td>\n",
       "      <td>16910.65234</td>\n",
       "      <td>3.260104e+10</td>\n",
       "    </tr>\n",
       "  </tbody>\n",
       "</table>\n",
       "</div>"
      ],
      "text/plain": [
       "        Date  Year  Month  Day         Open        Close  PercentChange  \\\n",
       "0 2020-11-24  2020     11   24  18365.01563  19107.46484       4.042737   \n",
       "1 2020-11-25  2020     11   25  19104.41016  18732.12109      -1.948707   \n",
       "2 2020-11-26  2020     11   26  18729.83984  17150.62305      -8.431555   \n",
       "3 2020-11-27  2020     11   27  17153.91406  17108.40234      -0.265314   \n",
       "4 2020-11-28  2020     11   28  17112.93359  17717.41406       3.532302   \n",
       "\n",
       "          High          Low        Volume  \n",
       "0  19348.27148  18128.65625  5.146957e+10  \n",
       "1  19390.96484  18581.14648  4.371036e+10  \n",
       "2  18866.28516  16351.03516  6.139684e+10  \n",
       "3  17445.02344  16526.42383  3.888649e+10  \n",
       "4  17853.93945  16910.65234  3.260104e+10  "
      ]
     },
     "execution_count": 146,
     "metadata": {},
     "output_type": "execute_result"
    }
   ],
   "source": [
    "df_new.head()"
   ]
  },
  {
   "cell_type": "markdown",
   "id": "1576c728",
   "metadata": {},
   "source": [
    "## Exploratory Analysis and Visualization of the BTC-USD Dataset\n",
    "<ol>\n",
    "    <li> Explore the distribution of the Open & Close price of BTC-USD with histograms</li>\n",
    "    <li> Visualize the close price over time </li>\n",
    "    <li> Visualize the average traded volume each month</li>\n",
    "    \n",
    "</ol>"
   ]
  },
  {
   "cell_type": "code",
   "execution_count": 147,
   "id": "4bfea2f7",
   "metadata": {},
   "outputs": [],
   "source": [
    "# Import necessary libraries to visualize the data\n",
    "\n",
    "import seaborn as sns\n",
    "import matplotlib\n",
    "import matplotlib.pyplot as plt\n",
    "\n",
    "#Allows the plot to be displayed next to the code\n",
    "%matplotlib inline\n",
    "\n",
    "#Formating the plots\n",
    "sns.set_style('darkgrid')\n",
    "matplotlib.rcParams['font.size'] = 14\n",
    "matplotlib.rcParams['figure.figsize'] = (9, 5)\n",
    "matplotlib.rcParams['figure.facecolor'] = '#00000000'"
   ]
  },
  {
   "cell_type": "markdown",
   "id": "06265e53",
   "metadata": {},
   "source": [
    "##### Distribution of Open/Close price of BTC-USD"
   ]
  },
  {
   "cell_type": "code",
   "execution_count": 148,
   "id": "a02a6f5c",
   "metadata": {},
   "outputs": [
    {
     "data": {
      "image/png": "[encoded data removed]",
      "text/plain": [
       "<Figure size 648x360 with 2 Axes>"
      ]
     },
     "metadata": {
      "needs_background": "light"
     },
     "output_type": "display_data"
    }
   ],
   "source": [
    "# Plot the histograms of the BTC/USD Open & Close Prices next to each other\n",
    "\n",
    "\n",
    "fig,axes=plt.subplots(1,2)\n",
    "sns.distplot(df_new.Open,color = \"b\", ax=axes[0], bins = 10)\n",
    "plt.grid(True)\n",
    "sns.distplot(df_new.Close,color = \"r\", ax=axes[1], bins = 10)\n",
    "fig.suptitle('Distribution of BTC/USD Open & Close Prices',fontweight =\"bold\")\n",
    "plt.show()\n",
    "\n"
   ]
  },
  {
   "cell_type": "code",
   "execution_count": 149,
   "id": "51eea726",
   "metadata": {},
   "outputs": [
    {
     "name": "stdout",
     "output_type": "stream",
     "text": [
      "              Year        Day          Open         Close  PercentChange  \\\n",
      "Month                                                                      \n",
      "1      2021.000000  16.000000  34652.961695  34703.053429       0.313243   \n",
      "2      2021.000000  14.500000  45874.967217  46306.798967       1.247759   \n",
      "3      2021.000000  16.000000  54544.678177  54998.008695       0.941784   \n",
      "4      2021.000000  15.500000  57251.256250  57206.720053      -0.016304   \n",
      "5      2021.000000  16.000000  47105.828503  46443.286669      -1.229427   \n",
      "6      2021.000000  15.500000  35920.546941  35845.154688      -0.081369   \n",
      "7      2021.000000  16.000000  34234.212451  34444.973792       0.599054   \n",
      "8      2021.000000  16.000000  45516.119835  45709.022682       0.487426   \n",
      "9      2021.000000  15.500000  46041.859376  45939.771485      -0.146678   \n",
      "10     2021.000000  16.000000  57344.743951  57911.970516       1.153143   \n",
      "11     2020.766667  15.533333  51870.387762  51702.946289      -0.076140   \n",
      "12     2020.000000  16.000000  21680.540828  21983.137097       1.322512   \n",
      "\n",
      "               High           Low        Volume  \n",
      "Month                                            \n",
      "1      36143.105091  32705.655999  6.954533e+10  \n",
      "2      47710.414621  44197.377302  8.096972e+10  \n",
      "3      56250.979084  52964.134704  5.423175e+10  \n",
      "4      58557.342058  55604.271094  6.148273e+10  \n",
      "5      48775.041835  44434.530620  6.376108e+10  \n",
      "6      37094.880144  34375.803061  3.965492e+10  \n",
      "7      35161.966356  33430.565020  2.642269e+10  \n",
      "8      46685.621346  44464.354587  3.273143e+10  \n",
      "9      47132.725001  44643.686329  3.673799e+10  \n",
      "10     59024.878152  56183.983115  3.719606e+10  \n",
      "11     52840.088347  50497.505144  3.729318e+10  \n",
      "12     22354.685610  21229.362022  3.910515e+10  \n"
     ]
    }
   ],
   "source": [
    "Month_Grouped = df_new.groupby(['Month']).mean()\n",
    "print(Month_Grouped)"
   ]
  },
  {
   "cell_type": "markdown",
   "id": "10892fd2",
   "metadata": {},
   "source": [
    "##### Average Traded Volume by Month\n",
    "The graph below will show the average volume traded each month during the period. Error bars are shown on each bar as well"
   ]
  },
  {
   "cell_type": "code",
   "execution_count": 150,
   "id": "350a260c",
   "metadata": {},
   "outputs": [
    {
     "name": "stdout",
     "output_type": "stream",
     "text": [
      "Month\n",
      "1     6.954533e+10\n",
      "2     8.096972e+10\n",
      "3     5.423175e+10\n",
      "4     6.148273e+10\n",
      "5     6.376108e+10\n",
      "6     3.965492e+10\n",
      "7     2.642269e+10\n",
      "8     3.273143e+10\n",
      "9     3.673799e+10\n",
      "10    3.719606e+10\n",
      "11    3.729318e+10\n",
      "12    3.910515e+10\n",
      "Name: Volume, dtype: float64\n"
     ]
    },
    {
     "data": {
      "image/png": "[encoded data removed]",
      "text/plain": [
       "<Figure size 648x360 with 1 Axes>"
      ]
     },
     "metadata": {
      "needs_background": "light"
     },
     "output_type": "display_data"
    }
   ],
   "source": [
    "sns.barplot('Month', 'Volume', data = df_new)\n",
    "plt.title (\"Average Volume Traded By Month\")\n",
    "\n",
    "#checking out the mean volume by month\n",
    "print(df_new.groupby(['Month']).mean()['Volume'])"
   ]
  },
  {
   "cell_type": "markdown",
   "id": "aceae958",
   "metadata": {},
   "source": [
    "same chart above without the error bars"
   ]
  },
  {
   "cell_type": "code",
   "execution_count": 151,
   "id": "5a6e638d",
   "metadata": {},
   "outputs": [
    {
     "data": {
      "text/plain": [
       "Text(0.5, 1.0, 'Average Volume Traded By Month')"
      ]
     },
     "execution_count": 151,
     "metadata": {},
     "output_type": "execute_result"
    },
    {
     "data": {
      "image/png": "[encoded data removed]",
      "text/plain": [
       "<Figure size 648x360 with 1 Axes>"
      ]
     },
     "metadata": {
      "needs_background": "light"
     },
     "output_type": "display_data"
    }
   ],
   "source": [
    "sns.barplot('Month', 'Volume', data = df_new,hue = 'Year', ci= False)\n",
    "plt.title (\"Average Volume Traded By Month\")"
   ]
  },
  {
   "cell_type": "markdown",
   "id": "79388d8b",
   "metadata": {},
   "source": [
    "##### Close price visualization over time\n",
    "\n",
    "The next visualization will show how the BTC-USD price changed over  time"
   ]
  },
  {
   "cell_type": "code",
   "execution_count": 152,
   "id": "f758f550",
   "metadata": {},
   "outputs": [
    {
     "data": {
      "image/png": "[encoded data removed]",
      "text/plain": [
       "<Figure size 864x576 with 1 Axes>"
      ]
     },
     "metadata": {
      "needs_background": "light"
     },
     "output_type": "display_data"
    }
   ],
   "source": [
    "fig, ax=plt.subplots(figsize=(12,8))\n",
    "plt.plot(df_new['Date'], df_new['Close'])\n",
    "plt.xlabel('Year-Month')\n",
    "plt.ylabel('Price in USD')\n",
    "plt.show()"
   ]
  },
  {
   "cell_type": "markdown",
   "id": "2a1c8090",
   "metadata": {},
   "source": [
    "##### Volume visualization over time\n",
    "\n",
    "The next visualization will show how the volume changed over time. As shown below, we can see the the spiked significantly just before March 2021."
   ]
  },
  {
   "cell_type": "code",
   "execution_count": 153,
   "id": "d1dbb101",
   "metadata": {},
   "outputs": [
    {
     "data": {
      "image/png": "[encoded data removed]",
      "text/plain": [
       "<Figure size 864x576 with 1 Axes>"
      ]
     },
     "metadata": {
      "needs_background": "light"
     },
     "output_type": "display_data"
    }
   ],
   "source": [
    "fig, ax=plt.subplots(figsize=(12,8))\n",
    "plt.plot(df_new['Date'], df_new['Volume'])\n",
    "plt.xlabel('Year-Month')\n",
    "plt.ylabel('Volume in USD')\n",
    "plt.show()"
   ]
  },
  {
   "cell_type": "markdown",
   "id": "7dab0fde",
   "metadata": {},
   "source": [
    "##### Creating a combo chart i.e. barplot representing volume trades, line plot representing BTC-USD price)"
   ]
  },
  {
   "cell_type": "code",
   "execution_count": 74,
   "id": "2fa93ccc",
   "metadata": {},
   "outputs": [
    {
     "data": {
      "image/png": "[encoded data removed]",
      "text/plain": [
       "<Figure size 864x576 with 2 Axes>"
      ]
     },
     "metadata": {
      "needs_background": "light"
     },
     "output_type": "display_data"
    }
   ],
   "source": [
    "#Create a combo chart\n",
    "fig, ax1=plt.subplots(figsize=(12,8))\n",
    "\n",
    "\n",
    "#Combo chart title & label\n",
    "ax1.set_title('BTC-USD Price', fontsize=16)\n",
    "\n",
    "\n",
    "#Barplot creation\n",
    "ax1 = sns.barplot(x='Date', y='Volume', data = df_new)\n",
    "\n",
    "#creating twin axes to share the same x-axis\n",
    "ax2 = ax1.twinx()\n",
    "\n",
    "#lineplot creation\n",
    "ax2 = sns.lineplot(ax1.get_xticks(), df_new.Close)\n",
    "\n",
    "ax2.set(ylabel = \"BTC-USD Close Price\")\n",
    "\n",
    "#showing the plot\n",
    "plt.show()\n"
   ]
  },
  {
   "cell_type": "markdown",
   "id": "0cea5414",
   "metadata": {},
   "source": [
    "As shown in the figure above, the x-axis is quite noisy, because there are 365 dates shown (overlaid on each other) on the x-axis"
   ]
  },
  {
   "cell_type": "markdown",
   "id": "51a565df",
   "metadata": {},
   "source": [
    "## Questions From The Dataset\n",
    "<ol>\n",
    "    <li>Which day had the highest traded volume</li>\n",
    "    <li>Which day had the greatest percentage change in price</li>\n",
    "    <li>What was the highest price of BTC-USD?</li>\n",
    "</ol>"
   ]
  },
  {
   "cell_type": "markdown",
   "id": "c65cce29",
   "metadata": {},
   "source": [
    "### Q1: What was the highest trading volume?"
   ]
  },
  {
   "cell_type": "code",
   "execution_count": 124,
   "id": "e67dc25b",
   "metadata": {},
   "outputs": [
    {
     "name": "stdout",
     "output_type": "stream",
     "text": [
      "The maximum volume traded was $350,968,000,000.\n"
     ]
    },
    {
     "data": {
      "text/html": [
       "<div>\n",
       "<style scoped>\n",
       "    .dataframe tbody tr th:only-of-type {\n",
       "        vertical-align: middle;\n",
       "    }\n",
       "\n",
       "    .dataframe tbody tr th {\n",
       "        vertical-align: top;\n",
       "    }\n",
       "\n",
       "    .dataframe thead th {\n",
       "        text-align: right;\n",
       "    }\n",
       "</style>\n",
       "<table border=\"1\" class=\"dataframe\">\n",
       "  <thead>\n",
       "    <tr style=\"text-align: right;\">\n",
       "      <th></th>\n",
       "      <th>Date</th>\n",
       "      <th>Year</th>\n",
       "      <th>Month</th>\n",
       "      <th>Day</th>\n",
       "      <th>Open</th>\n",
       "      <th>Close</th>\n",
       "      <th>PercentChange</th>\n",
       "      <th>High</th>\n",
       "      <th>Low</th>\n",
       "      <th>Volume</th>\n",
       "    </tr>\n",
       "  </thead>\n",
       "  <tbody>\n",
       "    <tr>\n",
       "      <th>94</th>\n",
       "      <td>2021-02-26</td>\n",
       "      <td>2021</td>\n",
       "      <td>2</td>\n",
       "      <td>26</td>\n",
       "      <td>47180.46484</td>\n",
       "      <td>46339.76172</td>\n",
       "      <td>-1.781888</td>\n",
       "      <td>48370.78516</td>\n",
       "      <td>44454.84375</td>\n",
       "      <td>3.509680e+11</td>\n",
       "    </tr>\n",
       "  </tbody>\n",
       "</table>\n",
       "</div>"
      ],
      "text/plain": [
       "         Date  Year  Month  Day         Open        Close  PercentChange  \\\n",
       "94 2021-02-26  2021      2   26  47180.46484  46339.76172      -1.781888   \n",
       "\n",
       "           High          Low        Volume  \n",
       "94  48370.78516  44454.84375  3.509680e+11  "
      ]
     },
     "execution_count": 124,
     "metadata": {},
     "output_type": "execute_result"
    }
   ],
   "source": [
    "# First, let's create a volume dataframe\n",
    "Volume_df = df_new.Volume\n",
    "\n",
    "#next we use the max() function to determin the highest volume traded\n",
    "Max_Volume_df = Volume_df.max()\n",
    "print('The maximum volume traded was ${:,.0f}.'.format(Max_Volume_df))\n",
    "\n",
    "#Which day had the maximum volume traded\n",
    "df_new[df_new['Volume'] == df_new['Volume'].max()]\n"
   ]
  },
  {
   "cell_type": "markdown",
   "id": "2cba39f2",
   "metadata": {},
   "source": [
    "### Q2: Which day had the greatest percentage change in price?"
   ]
  },
  {
   "cell_type": "code",
   "execution_count": 125,
   "id": "a0604d16",
   "metadata": {},
   "outputs": [
    {
     "name": "stdout",
     "output_type": "stream",
     "text": [
      "The maximum positive percent cahnge was 18.80%.\n",
      "The highest percentage change in in BTC-USD price happened on: \n"
     ]
    },
    {
     "data": {
      "text/html": [
       "<div>\n",
       "<style scoped>\n",
       "    .dataframe tbody tr th:only-of-type {\n",
       "        vertical-align: middle;\n",
       "    }\n",
       "\n",
       "    .dataframe tbody tr th {\n",
       "        vertical-align: top;\n",
       "    }\n",
       "\n",
       "    .dataframe thead th {\n",
       "        text-align: right;\n",
       "    }\n",
       "</style>\n",
       "<table border=\"1\" class=\"dataframe\">\n",
       "  <thead>\n",
       "    <tr style=\"text-align: right;\">\n",
       "      <th></th>\n",
       "      <th>Date</th>\n",
       "      <th>Year</th>\n",
       "      <th>Month</th>\n",
       "      <th>Day</th>\n",
       "      <th>Open</th>\n",
       "      <th>Close</th>\n",
       "      <th>PercentChange</th>\n",
       "      <th>High</th>\n",
       "      <th>Low</th>\n",
       "      <th>Volume</th>\n",
       "    </tr>\n",
       "  </thead>\n",
       "  <tbody>\n",
       "    <tr>\n",
       "      <th>76</th>\n",
       "      <td>2021-02-08</td>\n",
       "      <td>2021</td>\n",
       "      <td>2</td>\n",
       "      <td>8</td>\n",
       "      <td>38886.82813</td>\n",
       "      <td>46196.46484</td>\n",
       "      <td>18.797205</td>\n",
       "      <td>46203.92969</td>\n",
       "      <td>38076.32422</td>\n",
       "      <td>1.014670e+11</td>\n",
       "    </tr>\n",
       "  </tbody>\n",
       "</table>\n",
       "</div>"
      ],
      "text/plain": [
       "         Date  Year  Month  Day         Open        Close  PercentChange  \\\n",
       "76 2021-02-08  2021      2    8  38886.82813  46196.46484      18.797205   \n",
       "\n",
       "           High          Low        Volume  \n",
       "76  46203.92969  38076.32422  1.014670e+11  "
      ]
     },
     "execution_count": 125,
     "metadata": {},
     "output_type": "execute_result"
    }
   ],
   "source": [
    "Percent_df = df_new.PercentChange\n",
    "\n",
    "#next we use the max() function to determin the highest percent change in BTC-USD price\n",
    "Max_Percent_df = Percent_df.max()/100\n",
    "print('The maximum positive percent cahnge was {:.2%}.'.format(Max_Percent_df))\n",
    "\n",
    "#Which day had the highest percentage change in BTC-USD price\n",
    "print('The highest percentage change in in BTC-USD price happened on: ')\n",
    "df_new[df_new['PercentChange'] == df_new['PercentChange'].max()]\n",
    "\n"
   ]
  },
  {
   "cell_type": "code",
   "execution_count": 126,
   "id": "ccad943d",
   "metadata": {},
   "outputs": [
    {
     "name": "stdout",
     "output_type": "stream",
     "text": [
      "The maximum negative percent change was -13.84%.\n",
      "The lowest percentage change in in BTC-USD price happened on: \n"
     ]
    },
    {
     "data": {
      "text/html": [
       "<div>\n",
       "<style scoped>\n",
       "    .dataframe tbody tr th:only-of-type {\n",
       "        vertical-align: middle;\n",
       "    }\n",
       "\n",
       "    .dataframe tbody tr th {\n",
       "        vertical-align: top;\n",
       "    }\n",
       "\n",
       "    .dataframe thead th {\n",
       "        text-align: right;\n",
       "    }\n",
       "</style>\n",
       "<table border=\"1\" class=\"dataframe\">\n",
       "  <thead>\n",
       "    <tr style=\"text-align: right;\">\n",
       "      <th></th>\n",
       "      <th>Date</th>\n",
       "      <th>Year</th>\n",
       "      <th>Month</th>\n",
       "      <th>Day</th>\n",
       "      <th>Open</th>\n",
       "      <th>Close</th>\n",
       "      <th>PercentChange</th>\n",
       "      <th>High</th>\n",
       "      <th>Low</th>\n",
       "      <th>Volume</th>\n",
       "    </tr>\n",
       "  </thead>\n",
       "  <tbody>\n",
       "    <tr>\n",
       "      <th>176</th>\n",
       "      <td>2021-05-19</td>\n",
       "      <td>2021</td>\n",
       "      <td>5</td>\n",
       "      <td>19</td>\n",
       "      <td>42944.97656</td>\n",
       "      <td>37002.44141</td>\n",
       "      <td>-13.837556</td>\n",
       "      <td>43546.11719</td>\n",
       "      <td>30681.49609</td>\n",
       "      <td>1.263580e+11</td>\n",
       "    </tr>\n",
       "  </tbody>\n",
       "</table>\n",
       "</div>"
      ],
      "text/plain": [
       "          Date  Year  Month  Day         Open        Close  PercentChange  \\\n",
       "176 2021-05-19  2021      5   19  42944.97656  37002.44141     -13.837556   \n",
       "\n",
       "            High          Low        Volume  \n",
       "176  43546.11719  30681.49609  1.263580e+11  "
      ]
     },
     "execution_count": 126,
     "metadata": {},
     "output_type": "execute_result"
    }
   ],
   "source": [
    "#next we use the min() function to determin the lowest percent change in BTC-USD price\n",
    "Min_Percent_df = Percent_df.min()/100\n",
    "print('The maximum negative percent change was {:.2%}.'.format(Min_Percent_df))\n",
    "\n",
    "print('The lowest percentage change in in BTC-USD price happened on: ')\n",
    "df_new[df_new['PercentChange'] == df_new['PercentChange'].min()]"
   ]
  },
  {
   "cell_type": "markdown",
   "id": "35b7eacf",
   "metadata": {},
   "source": [
    "### Q3: What was the highest price of BTC-USD?"
   ]
  },
  {
   "cell_type": "code",
   "execution_count": 127,
   "id": "cd2ceb18",
   "metadata": {},
   "outputs": [
    {
     "name": "stdout",
     "output_type": "stream",
     "text": [
      "The maximum BTC price was $67,567.\n"
     ]
    },
    {
     "data": {
      "text/html": [
       "<div>\n",
       "<style scoped>\n",
       "    .dataframe tbody tr th:only-of-type {\n",
       "        vertical-align: middle;\n",
       "    }\n",
       "\n",
       "    .dataframe tbody tr th {\n",
       "        vertical-align: top;\n",
       "    }\n",
       "\n",
       "    .dataframe thead th {\n",
       "        text-align: right;\n",
       "    }\n",
       "</style>\n",
       "<table border=\"1\" class=\"dataframe\">\n",
       "  <thead>\n",
       "    <tr style=\"text-align: right;\">\n",
       "      <th></th>\n",
       "      <th>Date</th>\n",
       "      <th>Year</th>\n",
       "      <th>Month</th>\n",
       "      <th>Day</th>\n",
       "      <th>Open</th>\n",
       "      <th>Close</th>\n",
       "      <th>PercentChange</th>\n",
       "      <th>High</th>\n",
       "      <th>Low</th>\n",
       "      <th>Volume</th>\n",
       "    </tr>\n",
       "  </thead>\n",
       "  <tbody>\n",
       "    <tr>\n",
       "      <th>349</th>\n",
       "      <td>2021-11-08</td>\n",
       "      <td>2021</td>\n",
       "      <td>11</td>\n",
       "      <td>8</td>\n",
       "      <td>63344.06641</td>\n",
       "      <td>67566.82813</td>\n",
       "      <td>6.666389</td>\n",
       "      <td>67673.74219</td>\n",
       "      <td>63344.06641</td>\n",
       "      <td>4.112561e+10</td>\n",
       "    </tr>\n",
       "  </tbody>\n",
       "</table>\n",
       "</div>"
      ],
      "text/plain": [
       "          Date  Year  Month  Day         Open        Close  PercentChange  \\\n",
       "349 2021-11-08  2021     11    8  63344.06641  67566.82813       6.666389   \n",
       "\n",
       "            High          Low        Volume  \n",
       "349  67673.74219  63344.06641  4.112561e+10  "
      ]
     },
     "execution_count": 127,
     "metadata": {},
     "output_type": "execute_result"
    }
   ],
   "source": [
    "Close_df = df_new.Close\n",
    "\n",
    "#next we use the max() function to determin the highest price reached by BTC\n",
    "Max_Price_df = Close_df.max()\n",
    "print('The maximum BTC price was ${:,.0f}.'.format(Max_Price_df)) \n",
    "\n",
    "#Which day had the maximum volume traded\n",
    "df_new[df_new['Close'] == df_new['Close'].max()]"
   ]
  }
 ],
 "metadata": {
  "kernelspec": {
   "display_name": "Python 3",
   "language": "python",
   "name": "python3"
  },
  "language_info": {
   "codemirror_mode": {
    "name": "ipython",
    "version": 3
   },
   "file_extension": ".py",
   "mimetype": "text/x-python",
   "name": "python",
   "nbconvert_exporter": "python",
   "pygments_lexer": "ipython3",
   "version": "3.8.8"
  }
 },
 "nbformat": 4,
 "nbformat_minor": 5
}
